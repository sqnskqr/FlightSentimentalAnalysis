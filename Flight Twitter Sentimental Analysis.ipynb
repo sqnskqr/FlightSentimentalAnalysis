{
 "cells": [
  {
   "cell_type": "markdown",
   "id": "6d8708db",
   "metadata": {},
   "source": [
    "## Sentiment Analysis\n",
    "<br>\n",
    "NLP and Data Preprocessing\n",
    "<br>\n",
    "Balanced vs Unbalanced Data Analysis\n",
    "<br>\n",
    "Sentiment Analysis Creation\n",
    "<br>\n",
    "Testing Accuracy\n",
    "<br>\n",
    "Vader Accuracy Comparison"
   ]
  },
  {
   "cell_type": "code",
   "execution_count": 1,
   "id": "6dbcc712",
   "metadata": {},
   "outputs": [],
   "source": [
    "#importing libraries needed\n",
    "import pandas as pd\n",
    "import numpy as np\n",
    "import matplotlib.pyplot as plt\n",
    "import seaborn as sea\n",
    "%matplotlib inline"
   ]
  },
  {
   "cell_type": "code",
   "execution_count": 2,
   "id": "7a3f160f",
   "metadata": {},
   "outputs": [],
   "source": [
    "original_df = pd.read_csv(\"Tweets.csv\")"
   ]
  },
  {
   "cell_type": "code",
   "execution_count": 3,
   "id": "7e1a2bae",
   "metadata": {},
   "outputs": [
    {
     "data": {
      "text/html": [
       "<div>\n",
       "<style scoped>\n",
       "    .dataframe tbody tr th:only-of-type {\n",
       "        vertical-align: middle;\n",
       "    }\n",
       "\n",
       "    .dataframe tbody tr th {\n",
       "        vertical-align: top;\n",
       "    }\n",
       "\n",
       "    .dataframe thead th {\n",
       "        text-align: right;\n",
       "    }\n",
       "</style>\n",
       "<table border=\"1\" class=\"dataframe\">\n",
       "  <thead>\n",
       "    <tr style=\"text-align: right;\">\n",
       "      <th></th>\n",
       "      <th>text</th>\n",
       "      <th>airline_sentiment</th>\n",
       "    </tr>\n",
       "  </thead>\n",
       "  <tbody>\n",
       "    <tr>\n",
       "      <th>0</th>\n",
       "      <td>@VirginAmerica What @dhepburn said.</td>\n",
       "      <td>neutral</td>\n",
       "    </tr>\n",
       "    <tr>\n",
       "      <th>1</th>\n",
       "      <td>@VirginAmerica plus you've added commercials t...</td>\n",
       "      <td>positive</td>\n",
       "    </tr>\n",
       "    <tr>\n",
       "      <th>2</th>\n",
       "      <td>@VirginAmerica I didn't today... Must mean I n...</td>\n",
       "      <td>neutral</td>\n",
       "    </tr>\n",
       "    <tr>\n",
       "      <th>3</th>\n",
       "      <td>@VirginAmerica it's really aggressive to blast...</td>\n",
       "      <td>negative</td>\n",
       "    </tr>\n",
       "    <tr>\n",
       "      <th>4</th>\n",
       "      <td>@VirginAmerica and it's a really big bad thing...</td>\n",
       "      <td>negative</td>\n",
       "    </tr>\n",
       "    <tr>\n",
       "      <th>5</th>\n",
       "      <td>@VirginAmerica seriously would pay $30 a fligh...</td>\n",
       "      <td>negative</td>\n",
       "    </tr>\n",
       "    <tr>\n",
       "      <th>6</th>\n",
       "      <td>@VirginAmerica yes, nearly every time I fly VX...</td>\n",
       "      <td>positive</td>\n",
       "    </tr>\n",
       "    <tr>\n",
       "      <th>7</th>\n",
       "      <td>@VirginAmerica Really missed a prime opportuni...</td>\n",
       "      <td>neutral</td>\n",
       "    </tr>\n",
       "    <tr>\n",
       "      <th>8</th>\n",
       "      <td>@virginamerica Well, I didn't…but NOW I DO! :-D</td>\n",
       "      <td>positive</td>\n",
       "    </tr>\n",
       "    <tr>\n",
       "      <th>9</th>\n",
       "      <td>@VirginAmerica it was amazing, and arrived an ...</td>\n",
       "      <td>positive</td>\n",
       "    </tr>\n",
       "  </tbody>\n",
       "</table>\n",
       "</div>"
      ],
      "text/plain": [
       "                                                text airline_sentiment\n",
       "0                @VirginAmerica What @dhepburn said.           neutral\n",
       "1  @VirginAmerica plus you've added commercials t...          positive\n",
       "2  @VirginAmerica I didn't today... Must mean I n...           neutral\n",
       "3  @VirginAmerica it's really aggressive to blast...          negative\n",
       "4  @VirginAmerica and it's a really big bad thing...          negative\n",
       "5  @VirginAmerica seriously would pay $30 a fligh...          negative\n",
       "6  @VirginAmerica yes, nearly every time I fly VX...          positive\n",
       "7  @VirginAmerica Really missed a prime opportuni...           neutral\n",
       "8    @virginamerica Well, I didn't…but NOW I DO! :-D          positive\n",
       "9  @VirginAmerica it was amazing, and arrived an ...          positive"
      ]
     },
     "execution_count": 3,
     "metadata": {},
     "output_type": "execute_result"
    }
   ],
   "source": [
    "df = original_df[['text','airline_sentiment']]\n",
    "df.head(10)"
   ]
  },
  {
   "cell_type": "code",
   "execution_count": 4,
   "id": "ac5013be",
   "metadata": {},
   "outputs": [
    {
     "data": {
      "text/html": [
       "<div>\n",
       "<style scoped>\n",
       "    .dataframe tbody tr th:only-of-type {\n",
       "        vertical-align: middle;\n",
       "    }\n",
       "\n",
       "    .dataframe tbody tr th {\n",
       "        vertical-align: top;\n",
       "    }\n",
       "\n",
       "    .dataframe thead th {\n",
       "        text-align: right;\n",
       "    }\n",
       "</style>\n",
       "<table border=\"1\" class=\"dataframe\">\n",
       "  <thead>\n",
       "    <tr style=\"text-align: right;\">\n",
       "      <th></th>\n",
       "      <th>text</th>\n",
       "      <th>airline_sentiment</th>\n",
       "    </tr>\n",
       "  </thead>\n",
       "  <tbody>\n",
       "    <tr>\n",
       "      <th>count</th>\n",
       "      <td>14640</td>\n",
       "      <td>14640</td>\n",
       "    </tr>\n",
       "    <tr>\n",
       "      <th>unique</th>\n",
       "      <td>14427</td>\n",
       "      <td>3</td>\n",
       "    </tr>\n",
       "    <tr>\n",
       "      <th>top</th>\n",
       "      <td>@united thanks</td>\n",
       "      <td>negative</td>\n",
       "    </tr>\n",
       "    <tr>\n",
       "      <th>freq</th>\n",
       "      <td>6</td>\n",
       "      <td>9178</td>\n",
       "    </tr>\n",
       "  </tbody>\n",
       "</table>\n",
       "</div>"
      ],
      "text/plain": [
       "                  text airline_sentiment\n",
       "count            14640             14640\n",
       "unique           14427                 3\n",
       "top     @united thanks          negative\n",
       "freq                 6              9178"
      ]
     },
     "execution_count": 4,
     "metadata": {},
     "output_type": "execute_result"
    }
   ],
   "source": [
    "df.describe()"
   ]
  },
  {
   "cell_type": "code",
   "execution_count": 5,
   "id": "b943681a",
   "metadata": {},
   "outputs": [
    {
     "data": {
      "image/png": "[encoded data removed]",
      "text/plain": [
       "<Figure size 432x288 with 1 Axes>"
      ]
     },
     "metadata": {
      "needs_background": "light"
     },
     "output_type": "display_data"
    }
   ],
   "source": [
    "df.airline_sentiment.value_counts().plot(kind='bar',color= ['red','blue','orange'])\n",
    "plt.title(\"Sentiment Breakdown\")\n",
    "plt.xticks(rotation=0)\n",
    "plt.show()"
   ]
  },
  {
   "cell_type": "markdown",
   "id": "55903b4c",
   "metadata": {},
   "source": [
    "We don't really care for neutral data, as it isn't as helpful as positive or negative, so we'll eliminate that data for now and focus on making a binary classifier."
   ]
  },
  {
   "cell_type": "code",
   "execution_count": 6,
   "id": "f5724e4d",
   "metadata": {},
   "outputs": [
    {
     "data": {
      "text/plain": [
       "negative    9178\n",
       "positive    2363\n",
       "Name: airline_sentiment, dtype: int64"
      ]
     },
     "execution_count": 6,
     "metadata": {},
     "output_type": "execute_result"
    }
   ],
   "source": [
    "df = df[df['airline_sentiment'] != 'neutral']\n",
    "df[\"airline_sentiment\"].value_counts()"
   ]
  },
  {
   "cell_type": "markdown",
   "id": "e5a35506",
   "metadata": {},
   "source": [
    "#### Here we can see that our data doesn't seem very balanced, which we can confirm with the bar graph above as well. Thus we will try to find a successful way to change this. First, we will simply use the original data to build a classifer, but then we will see what happens when we try to undersample the negative sentiments. This is done to avoid any overfitting that might occur from oversampling the positive sentimments to compensate instead. Undersampling the negative sentiments should be fine given the amount of data we have, but we can test the accuracies at the end to see if it improves our original classifier and by how much."
   ]
  },
  {
   "cell_type": "code",
   "execution_count": 8,
   "id": "1af9d9e0",
   "metadata": {},
   "outputs": [],
   "source": [
    "#SPLITTING THE DATA UP FOR FUTURE TRAILS\n",
    "df_for_under = df.copy(deep=False)\n",
    "df_vader = df.copy(deep=False)"
   ]
  },
  {
   "cell_type": "markdown",
   "id": "d5ff4405",
   "metadata": {},
   "source": [
    "### Part 1: Original Data"
   ]
  },
  {
   "cell_type": "code",
   "execution_count": 9,
   "id": "67b39c9a",
   "metadata": {},
   "outputs": [],
   "source": [
    "#Converting our categorical data to numerical data we can use to classify using factorization\n",
    "sent_factor = df.airline_sentiment.factorize()"
   ]
  },
  {
   "cell_type": "code",
   "execution_count": 10,
   "id": "e43c7469",
   "metadata": {},
   "outputs": [],
   "source": [
    "#extract text data to tokenize\n",
    "tweets = df.text.values\n",
    "from tensorflow.keras.preprocessing.text import Tokenizer\n",
    "tokenizer = Tokenizer(num_words=5000)\n",
    "tokenizer.fit_on_texts(tweets)\n",
    "vocab_size = len(tokenizer.word_index) + 1\n",
    "encoded_docs = tokenizer.texts_to_sequences(tweets)"
   ]
  },
  {
   "cell_type": "code",
   "execution_count": 11,
   "id": "1dacf0df",
   "metadata": {},
   "outputs": [],
   "source": [
    "#pad sentences to have uniform length\n",
    "from tensorflow.keras.preprocessing.sequence import pad_sequences\n",
    "padded_sequence = pad_sequences(encoded_docs, maxlen=200)"
   ]
  },
  {
   "cell_type": "code",
   "execution_count": 12,
   "id": "76abd33e",
   "metadata": {},
   "outputs": [],
   "source": [
    "#Running LSTM Model\n",
    "from tensorflow.keras.models import Sequential\n",
    "from tensorflow.keras.layers import LSTM,Dense, Dropout, SpatialDropout1D\n",
    "from tensorflow.keras.layers import Embedding\n",
    "embedding_vector_length = 32\n",
    "model = Sequential()\n",
    "model.add(Embedding(vocab_size, embedding_vector_length, input_length=200))\n",
    "model.add(SpatialDropout1D(0.25))\n",
    "model.add(LSTM(50, dropout=0.5, recurrent_dropout=0.5))\n",
    "model.add(Dropout(0.2))\n",
    "model.add(Dense(1, activation='sigmoid'))\n",
    "model.compile(loss='binary_crossentropy',optimizer='adam', metrics=['accuracy'])"
   ]
  },
  {
   "cell_type": "code",
   "execution_count": 13,
   "id": "9897bc74",
   "metadata": {},
   "outputs": [
    {
     "name": "stdout",
     "output_type": "stream",
     "text": [
      "Model: \"sequential\"\n",
      "_________________________________________________________________\n",
      " Layer (type)                Output Shape              Param #   \n",
      "=================================================================\n",
      " embedding (Embedding)       (None, 200, 32)           423488    \n",
      "                                                                 \n",
      " spatial_dropout1d (SpatialD  (None, 200, 32)          0         \n",
      " ropout1D)                                                       \n",
      "                                                                 \n",
      " lstm (LSTM)                 (None, 50)                16600     \n",
      "                                                                 \n",
      " dropout (Dropout)           (None, 50)                0         \n",
      "                                                                 \n",
      " dense (Dense)               (None, 1)                 51        \n",
      "                                                                 \n",
      "=================================================================\n",
      "Total params: 440,139\n",
      "Trainable params: 440,139\n",
      "Non-trainable params: 0\n",
      "_________________________________________________________________\n",
      "None\n"
     ]
    }
   ],
   "source": [
    "#checking model\n",
    "print(model.summary())"
   ]
  },
  {
   "cell_type": "markdown",
   "id": "18605e61",
   "metadata": {},
   "source": [
    "#### Explain model"
   ]
  },
  {
   "cell_type": "code",
   "execution_count": 14,
   "id": "ee55d0ec",
   "metadata": {},
   "outputs": [
    {
     "name": "stdout",
     "output_type": "stream",
     "text": [
      "Epoch 1/5\n",
      "289/289 [==============================] - 42s 139ms/step - loss: 0.3870 - accuracy: 0.8400 - val_loss: 0.2269 - val_accuracy: 0.9043\n",
      "Epoch 2/5\n",
      "289/289 [==============================] - 39s 136ms/step - loss: 0.2145 - accuracy: 0.9170 - val_loss: 0.1628 - val_accuracy: 0.9437\n",
      "Epoch 3/5\n",
      "289/289 [==============================] - 42s 144ms/step - loss: 0.1637 - accuracy: 0.9401 - val_loss: 0.1629 - val_accuracy: 0.9394\n",
      "Epoch 4/5\n",
      "289/289 [==============================] - 47s 162ms/step - loss: 0.1443 - accuracy: 0.9472 - val_loss: 0.1698 - val_accuracy: 0.9402\n",
      "Epoch 5/5\n",
      "289/289 [==============================] - 44s 152ms/step - loss: 0.1182 - accuracy: 0.9575 - val_loss: 0.1827 - val_accuracy: 0.9407\n"
     ]
    }
   ],
   "source": [
    "#Training the model\n",
    "model_history = model.fit(padded_sequence,sent_factor[0],validation_split=0.2, epochs=5, batch_size=32)"
   ]
  },
  {
   "cell_type": "code",
   "execution_count": 16,
   "id": "9b3387c2",
   "metadata": {},
   "outputs": [
    {
     "data": {
      "image/png": "[encoded data removed]",
      "text/plain": [
       "<Figure size 432x288 with 1 Axes>"
      ]
     },
     "metadata": {
      "needs_background": "light"
     },
     "output_type": "display_data"
    }
   ],
   "source": [
    "import matplotlib.pyplot as plt\n",
    "plt.plot(model_history.history['accuracy'], label='acc')\n",
    "plt.plot(model_history.history['val_accuracy'], label='val_acc')\n",
    "plt.legend()\n",
    "plt.title(\"Accuracy Over Epochs [val_acc = validation accuracy, acc = training accuracy]\")\n",
    "plt.show()"
   ]
  },
  {
   "cell_type": "markdown",
   "id": "9b98119b",
   "metadata": {},
   "source": [
    "Our model is quite accurate! It reached 94% accuracy over 5 epochs, a relatively short amount of time."
   ]
  },
  {
   "cell_type": "markdown",
   "id": "fbba0cc9",
   "metadata": {},
   "source": [
    "## Part II: Undersampling Negative Sentiments"
   ]
  },
  {
   "cell_type": "code",
   "execution_count": 17,
   "id": "8f52c6e9",
   "metadata": {},
   "outputs": [],
   "source": [
    "#undersampling function\n",
    "def undersample(df:pd.DataFrame, label_col_name:str) -> pd.DataFrame:\n",
    "    # find the number of positive sentiments\n",
    "    min = df[label_col_name].value_counts().min()\n",
    "    return (df\n",
    "            # split the dataframe by sentiment type\n",
    "            .groupby(label_col_name)\n",
    "            # sample min\n",
    "            .apply(lambda x: x.sample(min))\n",
    "            # recombine the dataframes into one\n",
    "            .reset_index(drop=True)\n",
    "            )"
   ]
  },
  {
   "cell_type": "code",
   "execution_count": 18,
   "id": "02a98173",
   "metadata": {},
   "outputs": [],
   "source": [
    "df_for_under = undersample(df_for_under, 'airline_sentiment')"
   ]
  },
  {
   "cell_type": "code",
   "execution_count": 19,
   "id": "9e20161c",
   "metadata": {},
   "outputs": [
    {
     "data": {
      "image/png": "[encoded data removed]",
      "text/plain": [
       "<Figure size 432x288 with 1 Axes>"
      ]
     },
     "metadata": {
      "needs_background": "light"
     },
     "output_type": "display_data"
    },
    {
     "data": {
      "text/plain": [
       "positive    2363\n",
       "negative    2363\n",
       "Name: airline_sentiment, dtype: int64"
      ]
     },
     "execution_count": 19,
     "metadata": {},
     "output_type": "execute_result"
    }
   ],
   "source": [
    "#check to see new dataframe\n",
    "df_for_under.airline_sentiment.value_counts().plot(kind='bar',color= ['red','blue'])\n",
    "plt.title(\"Sentiment Breakdown\")\n",
    "plt.xticks(rotation=0)\n",
    "plt.show()\n",
    "df_for_under[\"airline_sentiment\"].value_counts()"
   ]
  },
  {
   "cell_type": "code",
   "execution_count": 20,
   "id": "c4efbd88",
   "metadata": {},
   "outputs": [
    {
     "name": "stdout",
     "output_type": "stream",
     "text": [
      "Epoch 1/5\n",
      "119/119 [==============================] - 18s 151ms/step - loss: 0.7151 - accuracy: 0.6558 - val_loss: 0.8283 - val_accuracy: 0.4968\n",
      "Epoch 2/5\n",
      "119/119 [==============================] - 30s 250ms/step - loss: 0.4416 - accuracy: 0.8016 - val_loss: 0.5482 - val_accuracy: 0.7854\n",
      "Epoch 3/5\n",
      "119/119 [==============================] - 27s 229ms/step - loss: 0.3177 - accuracy: 0.8741 - val_loss: 0.6240 - val_accuracy: 0.7463\n",
      "Epoch 4/5\n",
      "119/119 [==============================] - 26s 214ms/step - loss: 0.2214 - accuracy: 0.9164 - val_loss: 0.5520 - val_accuracy: 0.7992\n",
      "Epoch 5/5\n",
      "119/119 [==============================] - 27s 226ms/step - loss: 0.1868 - accuracy: 0.9325 - val_loss: 0.3422 - val_accuracy: 0.8753\n"
     ]
    }
   ],
   "source": [
    "#redo the process like we did for the previous dataframe\n",
    "sent_factor_under = df_for_under.airline_sentiment.factorize()\n",
    "tweets_for_under = df_for_under.text.values\n",
    "from tensorflow.keras.preprocessing.text import Tokenizer\n",
    "tokenizer = Tokenizer(num_words=5000)\n",
    "tokenizer.fit_on_texts(tweets_for_under)\n",
    "vocab_size = len(tokenizer.word_index) + 1\n",
    "encoded_docs = tokenizer.texts_to_sequences(tweets_for_under)\n",
    "padded_sequence_under = pad_sequences(encoded_docs, maxlen=200)\n",
    "embedding_vector_length = 32\n",
    "under_model = Sequential()\n",
    "under_model.add(Embedding(vocab_size, embedding_vector_length, input_length=200))\n",
    "under_model.add(SpatialDropout1D(0.25))\n",
    "under_model.add(LSTM(50, dropout=0.5, recurrent_dropout=0.5))\n",
    "under_model.add(Dropout(0.2))\n",
    "under_model.add(Dense(1, activation='sigmoid'))\n",
    "under_model.compile(loss='binary_crossentropy',optimizer='adam', metrics=['accuracy'])\n",
    "under_model_history = model.fit(padded_sequence_under,sent_factor_under[0],validation_split=0.2, epochs=5, batch_size=32)"
   ]
  },
  {
   "cell_type": "code",
   "execution_count": 27,
   "id": "f7991029",
   "metadata": {},
   "outputs": [
    {
     "data": {
      "image/png": "[encoded data removed]",
      "text/plain": [
       "<Figure size 432x288 with 1 Axes>"
      ]
     },
     "metadata": {
      "needs_background": "light"
     },
     "output_type": "display_data"
    }
   ],
   "source": [
    "plt.plot(model_history.history['accuracy'], label='acc')\n",
    "plt.plot(model_history.history['val_accuracy'], label='val_acc')\n",
    "plt.legend()\n",
    "plt.title(\"Accuracy Over Epochs [val_acc = validation accuracy, acc = training accuracy]\")\n",
    "plt.show()"
   ]
  },
  {
   "cell_type": "markdown",
   "id": "fe5edc3a",
   "metadata": {},
   "source": [
    "Here we see that there can be averse affects to undersampling, as we lose key information. Therefore, we will keep our original model for binary classification as it is slightly more accurate"
   ]
  },
  {
   "cell_type": "markdown",
   "id": "e653f392",
   "metadata": {},
   "source": [
    "### Part III: Vader"
   ]
  },
  {
   "cell_type": "code",
   "execution_count": 22,
   "id": "3261e99d",
   "metadata": {},
   "outputs": [],
   "source": [
    "from vaderSentiment.vaderSentiment import SentimentIntensityAnalyzer\n",
    "sentiment = SentimentIntensityAnalyzer()"
   ]
  },
  {
   "cell_type": "code",
   "execution_count": 23,
   "id": "a6d5aa33",
   "metadata": {},
   "outputs": [],
   "source": [
    "#Vader Function\n",
    "def sentiment_scores(sentence):\n",
    "    sentiment_dict = sentiment.polarity_scores(sentence)\n",
    "    if sentiment_dict['compound'] >= 0.05 :\n",
    "        return \"positive\"\n",
    "    elif sentiment_dict['compound'] <= - 0.05 :\n",
    "        return \"negative\"\n",
    "    else :\n",
    "        return \"neutral\""
   ]
  },
  {
   "cell_type": "code",
   "execution_count": 24,
   "id": "c5c16b43",
   "metadata": {},
   "outputs": [
    {
     "name": "stdout",
     "output_type": "stream",
     "text": [
      "Vader Accuracy: \n",
      "53.574213672991945\n",
      "percent\n"
     ]
    }
   ],
   "source": [
    "#Vader Accuracy\n",
    "total = 0\n",
    "num_correct = 0\n",
    "for ind in df_vader.index:\n",
    "    total += 1\n",
    "    vader_says = sentiment_scores(df_vader['text'][ind])\n",
    "    if vader_says == (df_vader['airline_sentiment'][ind]):\n",
    "        num_correct +=1\n",
    "print('Vader Accuracy: ')\n",
    "print(num_correct/total*100)\n",
    "print(\"percent\")"
   ]
  },
  {
   "cell_type": "code",
   "execution_count": 25,
   "id": "26019124",
   "metadata": {},
   "outputs": [],
   "source": [
    "#Vader Function (slightly modified)\n",
    "def sentiment_scores2(sentence):\n",
    "    sentiment_dict = sentiment.polarity_scores(sentence)\n",
    "    if sentiment_dict['compound'] >= 0.00 :\n",
    "        return \"positive\"\n",
    "    elif sentiment_dict['compound'] <= - 0.00 :\n",
    "        return \"negative\"\n",
    "    else :\n",
    "        return \"neutral\""
   ]
  },
  {
   "cell_type": "code",
   "execution_count": 26,
   "id": "8a3cf509",
   "metadata": {},
   "outputs": [
    {
     "name": "stdout",
     "output_type": "stream",
     "text": [
      "Vader Accuracy: \n",
      "55.60176761112555\n",
      "percent\n"
     ]
    }
   ],
   "source": [
    "#Vader Accuracy\n",
    "total = 0\n",
    "num_correct = 0\n",
    "for ind in df_vader.index:\n",
    "    total += 1\n",
    "    vader_says = sentiment_scores2(df_vader['text'][ind])\n",
    "    if vader_says == (df_vader['airline_sentiment'][ind]):\n",
    "        num_correct +=1\n",
    "print('Vader Accuracy: ')\n",
    "print(num_correct/total*100)\n",
    "print(\"percent\")"
   ]
  },
  {
   "cell_type": "markdown",
   "id": "4e373ae0",
   "metadata": {},
   "source": [
    "### Our sentimental analyzer is far better! This makes sense as it is far more personalized for this purpose than Vader is. Words like \"United\" might be messing with the Vader Sentiment Analyzer while our model knows enough to work around these words."
   ]
  },
  {
   "cell_type": "markdown",
   "id": "8c8ee990",
   "metadata": {},
   "source": [
    "### Part III: Just For Fun"
   ]
  },
  {
   "cell_type": "code",
   "execution_count": 28,
   "id": "0765d96a",
   "metadata": {},
   "outputs": [],
   "source": [
    "#creating a prediction functions using our model\n",
    "def predict_sentiment(text):\n",
    "    tweet = tokenizer.texts_to_sequences([text])\n",
    "    tweet = pad_sequences(tw,maxlen=200)\n",
    "    prediction = int(model.predict(tw).round().item())\n",
    "    print(\"Predicted label: \", sent_factor[1][prediction])"
   ]
  },
  {
   "cell_type": "code",
   "execution_count": 46,
   "id": "f7f14916",
   "metadata": {},
   "outputs": [
    {
     "name": "stdout",
     "output_type": "stream",
     "text": [
      "Predicted label:  negative\n",
      "Predicted label:  positive\n"
     ]
    }
   ],
   "source": [
    "predict_sentiment(\"I am enraged by this service!\")\n",
    "predict_sentiment(\"I enjoyed my journey on this flight.\")"
   ]
  },
  {
   "cell_type": "markdown",
   "id": "fef8b057",
   "metadata": {},
   "source": [
    "One reason I wanted to test this out is to see if our model fell into one of the major pitfalls of having unbalanced data; If 95% of the data is negative, the model could just achieve 95% accuracy by labelling everything as negative. Granted this is an exaggerated unbalanced set example, but the notion of weighing the major class more holds true. Having such little comparative positive data could also lead to overfitting for positive data, which we seemed to have avoided here too."
   ]
  },
  {
   "cell_type": "code",
   "execution_count": null,
   "id": "8e5c351b",
   "metadata": {},
   "outputs": [],
   "source": []
  }
 ],
 "metadata": {
  "kernelspec": {
   "display_name": "Python 3",
   "language": "python",
   "name": "python3"
  },
  "language_info": {
   "codemirror_mode": {
    "name": "ipython",
    "version": 3
   },
   "file_extension": ".py",
   "mimetype": "text/x-python",
   "name": "python",
   "nbconvert_exporter": "python",
   "pygments_lexer": "ipython3",
   "version": "3.8.8"
  }
 },
 "nbformat": 4,
 "nbformat_minor": 5
}
